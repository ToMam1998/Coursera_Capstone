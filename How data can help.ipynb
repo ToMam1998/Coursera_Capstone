{
 "cells": [
  {
   "cell_type": "markdown",
   "metadata": {},
   "source": [
    "# Data"
   ]
  },
  {
   "cell_type": "markdown",
   "metadata": {},
   "source": [
    "As a result, it may be useful to take into consideration different conditions and dependencies,  e.g. weather or road conditions, influence of illicit stimulants, drivers' inattention, speeding, pedestrians' behaviour or light condisions to determine which of them **contributes the most to the number of accidents' injuries or fatalities and try to reduce number of accidents and their negative consequences.**"
   ]
  },
  {
   "cell_type": "markdown",
   "metadata": {},
   "source": [
    "It should be of special interest of different stakeholders, e.g. **traffic participants** themselves or **authorities**. People being aware of dangers would be available to avoid them, stay healthy and save money spent on repairs, and country could save money spent on people's treatment and experience their gratitude and recognition."
   ]
  },
  {
   "cell_type": "markdown",
   "metadata": {},
   "source": [
    "It could also help in projecting some social campaigns aimed at making people awared of dangers or even deploying of an early warning system that could alert people if some hazardous weather or other negative conditions are expected. "
   ]
  },
  {
   "cell_type": "markdown",
   "metadata": {},
   "source": [
    "To achieve the goal of explaining potential contributors to accidents and their consequent injuries or deaths, **Seattle's collision dataset** will be used."
   ]
  },
  {
   "cell_type": "code",
   "execution_count": null,
   "metadata": {},
   "outputs": [],
   "source": []
  }
 ],
 "metadata": {
  "kernelspec": {
   "display_name": "Python 3",
   "language": "python",
   "name": "python3"
  },
  "language_info": {
   "codemirror_mode": {
    "name": "ipython",
    "version": 3
   },
   "file_extension": ".py",
   "mimetype": "text/x-python",
   "name": "python",
   "nbconvert_exporter": "python",
   "pygments_lexer": "ipython3",
   "version": "3.7.6"
  }
 },
 "nbformat": 4,
 "nbformat_minor": 4
}
